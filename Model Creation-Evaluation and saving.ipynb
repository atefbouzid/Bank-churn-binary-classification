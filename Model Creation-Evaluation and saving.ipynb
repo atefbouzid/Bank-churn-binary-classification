{
 "cells": [
  {
   "cell_type": "markdown",
   "metadata": {},
   "source": [
    "# MODEL CREATION & EVALUATION SUMMARY:\n",
    "- Loading pre-process data\n",
    "- Split training and testing data\n",
    "- Model creation, prediction & evaluation\n",
    "- Model saving"
   ]
  },
  {
   "cell_type": "markdown",
   "metadata": {},
   "source": [
    "# Import necessary libraries"
   ]
  },
  {
   "cell_type": "code",
   "execution_count": 148,
   "metadata": {},
   "outputs": [],
   "source": [
    "import pandas as pd \n",
    "import numpy as np \n",
    "import matplotlib.pyplot as plt\n",
    "\n",
    "from sklearn.model_selection import train_test_split\n",
    "\n",
    "from sklearn.metrics import roc_auc_score\n",
    "\n",
    "import catboost as ctb\n",
    "\n",
    "\n",
    "\n",
    "import warnings # Used to supressed the warnings\n",
    "warnings.filterwarnings('ignore')\n"
   ]
  },
  {
   "cell_type": "markdown",
   "metadata": {},
   "source": [
    "# Loading preprocess data"
   ]
  },
  {
   "cell_type": "code",
   "execution_count": 149,
   "metadata": {},
   "outputs": [],
   "source": [
    "path_train='Data/train_PreProcess.csv'\n",
    "path_test='Data/test_PreProcess.csv'\n",
    "train = pd.read_csv(path_train)\n",
    "test= pd.read_csv(path_test)"
   ]
  },
  {
   "cell_type": "code",
   "execution_count": 150,
   "metadata": {},
   "outputs": [
    {
     "data": {
      "text/html": [
       "<div>\n",
       "<style scoped>\n",
       "    .dataframe tbody tr th:only-of-type {\n",
       "        vertical-align: middle;\n",
       "    }\n",
       "\n",
       "    .dataframe tbody tr th {\n",
       "        vertical-align: top;\n",
       "    }\n",
       "\n",
       "    .dataframe thead th {\n",
       "        text-align: right;\n",
       "    }\n",
       "</style>\n",
       "<table border=\"1\" class=\"dataframe\">\n",
       "  <thead>\n",
       "    <tr style=\"text-align: right;\">\n",
       "      <th></th>\n",
       "      <th>CreditScore</th>\n",
       "      <th>Age</th>\n",
       "      <th>Tenure</th>\n",
       "      <th>Balance</th>\n",
       "      <th>NumOfProducts</th>\n",
       "      <th>HasCrCard</th>\n",
       "      <th>IsActiveMember</th>\n",
       "      <th>EstimatedSalary</th>\n",
       "      <th>Exited</th>\n",
       "      <th>Products_Per_Tenure</th>\n",
       "      <th>ActiveCC</th>\n",
       "      <th>Total_Products_Used</th>\n",
       "      <th>Mid_Balance</th>\n",
       "      <th>High_Balance</th>\n",
       "      <th>Geography_Encoded</th>\n",
       "      <th>Gender_Encoded</th>\n",
       "      <th>Credit_category_Encoded</th>\n",
       "      <th>Age_category_Encoded</th>\n",
       "    </tr>\n",
       "  </thead>\n",
       "  <tbody>\n",
       "    <tr>\n",
       "      <th>0</th>\n",
       "      <td>0.146929</td>\n",
       "      <td>-0.554117</td>\n",
       "      <td>-0.726633</td>\n",
       "      <td>-0.869936</td>\n",
       "      <td>0.843648</td>\n",
       "      <td>0.0</td>\n",
       "      <td>-0.968463</td>\n",
       "      <td>1.370927</td>\n",
       "      <td>0</td>\n",
       "      <td>-0.863611</td>\n",
       "      <td>-0.968463</td>\n",
       "      <td>0.843648</td>\n",
       "      <td>-0.35376</td>\n",
       "      <td>-0.542475</td>\n",
       "      <td>0.783032</td>\n",
       "      <td>0.871612</td>\n",
       "      <td>4</td>\n",
       "      <td>2</td>\n",
       "    </tr>\n",
       "    <tr>\n",
       "      <th>1</th>\n",
       "      <td>-0.371646</td>\n",
       "      <td>-0.554117</td>\n",
       "      <td>-1.441351</td>\n",
       "      <td>-0.869936</td>\n",
       "      <td>0.843648</td>\n",
       "      <td>0.0</td>\n",
       "      <td>1.032564</td>\n",
       "      <td>-1.265028</td>\n",
       "      <td>0</td>\n",
       "      <td>-1.262366</td>\n",
       "      <td>1.032564</td>\n",
       "      <td>0.843648</td>\n",
       "      <td>-0.35376</td>\n",
       "      <td>-0.542475</td>\n",
       "      <td>0.783032</td>\n",
       "      <td>0.871612</td>\n",
       "      <td>4</td>\n",
       "      <td>2</td>\n",
       "    </tr>\n",
       "    <tr>\n",
       "      <th>2</th>\n",
       "      <td>0.273411</td>\n",
       "      <td>0.402563</td>\n",
       "      <td>1.774881</td>\n",
       "      <td>-0.869936</td>\n",
       "      <td>0.843648</td>\n",
       "      <td>0.0</td>\n",
       "      <td>-0.968463</td>\n",
       "      <td>1.439184</td>\n",
       "      <td>0</td>\n",
       "      <td>0.532030</td>\n",
       "      <td>-0.968463</td>\n",
       "      <td>0.843648</td>\n",
       "      <td>-0.35376</td>\n",
       "      <td>-0.542475</td>\n",
       "      <td>0.783032</td>\n",
       "      <td>0.871612</td>\n",
       "      <td>3</td>\n",
       "      <td>3</td>\n",
       "    </tr>\n",
       "    <tr>\n",
       "      <th>3</th>\n",
       "      <td>-0.953463</td>\n",
       "      <td>-0.417448</td>\n",
       "      <td>-1.083992</td>\n",
       "      <td>1.503461</td>\n",
       "      <td>-1.044169</td>\n",
       "      <td>0.0</td>\n",
       "      <td>1.032564</td>\n",
       "      <td>-0.564670</td>\n",
       "      <td>0</td>\n",
       "      <td>-0.664234</td>\n",
       "      <td>1.032564</td>\n",
       "      <td>-1.044169</td>\n",
       "      <td>-0.35376</td>\n",
       "      <td>1.843403</td>\n",
       "      <td>0.783032</td>\n",
       "      <td>0.871612</td>\n",
       "      <td>4</td>\n",
       "      <td>2</td>\n",
       "    </tr>\n",
       "    <tr>\n",
       "      <th>4</th>\n",
       "      <td>0.754042</td>\n",
       "      <td>-0.554117</td>\n",
       "      <td>-0.011914</td>\n",
       "      <td>-0.869936</td>\n",
       "      <td>0.843648</td>\n",
       "      <td>0.0</td>\n",
       "      <td>1.032564</td>\n",
       "      <td>-1.952945</td>\n",
       "      <td>0</td>\n",
       "      <td>-0.464856</td>\n",
       "      <td>1.032564</td>\n",
       "      <td>0.843648</td>\n",
       "      <td>-0.35376</td>\n",
       "      <td>-0.542475</td>\n",
       "      <td>-0.460093</td>\n",
       "      <td>0.871612</td>\n",
       "      <td>3</td>\n",
       "      <td>2</td>\n",
       "    </tr>\n",
       "  </tbody>\n",
       "</table>\n",
       "</div>"
      ],
      "text/plain": [
       "   CreditScore       Age    Tenure   Balance  NumOfProducts  HasCrCard  \\\n",
       "0     0.146929 -0.554117 -0.726633 -0.869936       0.843648        0.0   \n",
       "1    -0.371646 -0.554117 -1.441351 -0.869936       0.843648        0.0   \n",
       "2     0.273411  0.402563  1.774881 -0.869936       0.843648        0.0   \n",
       "3    -0.953463 -0.417448 -1.083992  1.503461      -1.044169        0.0   \n",
       "4     0.754042 -0.554117 -0.011914 -0.869936       0.843648        0.0   \n",
       "\n",
       "   IsActiveMember  EstimatedSalary  Exited  Products_Per_Tenure  ActiveCC  \\\n",
       "0       -0.968463         1.370927       0            -0.863611 -0.968463   \n",
       "1        1.032564        -1.265028       0            -1.262366  1.032564   \n",
       "2       -0.968463         1.439184       0             0.532030 -0.968463   \n",
       "3        1.032564        -0.564670       0            -0.664234  1.032564   \n",
       "4        1.032564        -1.952945       0            -0.464856  1.032564   \n",
       "\n",
       "   Total_Products_Used  Mid_Balance  High_Balance  Geography_Encoded  \\\n",
       "0             0.843648     -0.35376     -0.542475           0.783032   \n",
       "1             0.843648     -0.35376     -0.542475           0.783032   \n",
       "2             0.843648     -0.35376     -0.542475           0.783032   \n",
       "3            -1.044169     -0.35376      1.843403           0.783032   \n",
       "4             0.843648     -0.35376     -0.542475          -0.460093   \n",
       "\n",
       "   Gender_Encoded  Credit_category_Encoded  Age_category_Encoded  \n",
       "0        0.871612                        4                     2  \n",
       "1        0.871612                        4                     2  \n",
       "2        0.871612                        3                     3  \n",
       "3        0.871612                        4                     2  \n",
       "4        0.871612                        3                     2  "
      ]
     },
     "execution_count": 150,
     "metadata": {},
     "output_type": "execute_result"
    }
   ],
   "source": [
    "train.head()"
   ]
  },
  {
   "cell_type": "code",
   "execution_count": 151,
   "metadata": {},
   "outputs": [
    {
     "data": {
      "text/html": [
       "<div>\n",
       "<style scoped>\n",
       "    .dataframe tbody tr th:only-of-type {\n",
       "        vertical-align: middle;\n",
       "    }\n",
       "\n",
       "    .dataframe tbody tr th {\n",
       "        vertical-align: top;\n",
       "    }\n",
       "\n",
       "    .dataframe thead th {\n",
       "        text-align: right;\n",
       "    }\n",
       "</style>\n",
       "<table border=\"1\" class=\"dataframe\">\n",
       "  <thead>\n",
       "    <tr style=\"text-align: right;\">\n",
       "      <th></th>\n",
       "      <th>CreditScore</th>\n",
       "      <th>Age</th>\n",
       "      <th>Tenure</th>\n",
       "      <th>Balance</th>\n",
       "      <th>NumOfProducts</th>\n",
       "      <th>HasCrCard</th>\n",
       "      <th>IsActiveMember</th>\n",
       "      <th>EstimatedSalary</th>\n",
       "      <th>Products_Per_Tenure</th>\n",
       "      <th>ActiveCC</th>\n",
       "      <th>Total_Products_Used</th>\n",
       "      <th>Mid_Balance</th>\n",
       "      <th>High_Balance</th>\n",
       "      <th>Geography_Encoded</th>\n",
       "      <th>Gender_Encoded</th>\n",
       "      <th>Credit_category_Encoded</th>\n",
       "      <th>Age_category_Encoded</th>\n",
       "    </tr>\n",
       "  </thead>\n",
       "  <tbody>\n",
       "    <tr>\n",
       "      <th>0</th>\n",
       "      <td>-0.878176</td>\n",
       "      <td>-1.706504</td>\n",
       "      <td>-1.067887</td>\n",
       "      <td>-0.881274</td>\n",
       "      <td>0.820030</td>\n",
       "      <td>-1.746219</td>\n",
       "      <td>1.009580</td>\n",
       "      <td>0.967874</td>\n",
       "      <td>-1.052504</td>\n",
       "      <td>-0.761515</td>\n",
       "      <td>-0.440063</td>\n",
       "      <td>-0.355474</td>\n",
       "      <td>-0.545592</td>\n",
       "      <td>0.787433</td>\n",
       "      <td>-1.135026</td>\n",
       "      <td>4</td>\n",
       "      <td>0</td>\n",
       "    </tr>\n",
       "    <tr>\n",
       "      <th>1</th>\n",
       "      <td>0.329567</td>\n",
       "      <td>0.888990</td>\n",
       "      <td>-1.067887</td>\n",
       "      <td>-0.881274</td>\n",
       "      <td>-1.015806</td>\n",
       "      <td>0.572666</td>\n",
       "      <td>-0.990511</td>\n",
       "      <td>-0.790939</td>\n",
       "      <td>-0.653982</td>\n",
       "      <td>-0.761515</td>\n",
       "      <td>-0.440063</td>\n",
       "      <td>-0.355474</td>\n",
       "      <td>-0.545592</td>\n",
       "      <td>0.787433</td>\n",
       "      <td>-1.135026</td>\n",
       "      <td>3</td>\n",
       "      <td>3</td>\n",
       "    </tr>\n",
       "    <tr>\n",
       "      <th>2</th>\n",
       "      <td>-0.006609</td>\n",
       "      <td>-0.465181</td>\n",
       "      <td>0.713922</td>\n",
       "      <td>-0.881274</td>\n",
       "      <td>0.820030</td>\n",
       "      <td>0.572666</td>\n",
       "      <td>-0.990511</td>\n",
       "      <td>0.528413</td>\n",
       "      <td>-0.056199</td>\n",
       "      <td>-0.761515</td>\n",
       "      <td>0.996347</td>\n",
       "      <td>-0.355474</td>\n",
       "      <td>-0.545592</td>\n",
       "      <td>0.787433</td>\n",
       "      <td>-1.135026</td>\n",
       "      <td>4</td>\n",
       "      <td>2</td>\n",
       "    </tr>\n",
       "    <tr>\n",
       "      <th>3</th>\n",
       "      <td>0.304665</td>\n",
       "      <td>-0.239486</td>\n",
       "      <td>1.070284</td>\n",
       "      <td>-0.881274</td>\n",
       "      <td>-1.015806</td>\n",
       "      <td>0.572666</td>\n",
       "      <td>-0.990511</td>\n",
       "      <td>0.032150</td>\n",
       "      <td>1.737149</td>\n",
       "      <td>-0.761515</td>\n",
       "      <td>-0.440063</td>\n",
       "      <td>-0.355474</td>\n",
       "      <td>-0.545592</td>\n",
       "      <td>0.787433</td>\n",
       "      <td>0.881037</td>\n",
       "      <td>3</td>\n",
       "      <td>3</td>\n",
       "    </tr>\n",
       "    <tr>\n",
       "      <th>4</th>\n",
       "      <td>1.188684</td>\n",
       "      <td>-0.013791</td>\n",
       "      <td>1.783008</td>\n",
       "      <td>1.050038</td>\n",
       "      <td>-1.015806</td>\n",
       "      <td>0.572666</td>\n",
       "      <td>-0.990511</td>\n",
       "      <td>0.539331</td>\n",
       "      <td>2.534193</td>\n",
       "      <td>-0.761515</td>\n",
       "      <td>-0.440063</td>\n",
       "      <td>2.813147</td>\n",
       "      <td>-0.545592</td>\n",
       "      <td>-1.695286</td>\n",
       "      <td>0.881037</td>\n",
       "      <td>1</td>\n",
       "      <td>3</td>\n",
       "    </tr>\n",
       "  </tbody>\n",
       "</table>\n",
       "</div>"
      ],
      "text/plain": [
       "   CreditScore       Age    Tenure   Balance  NumOfProducts  HasCrCard  \\\n",
       "0    -0.878176 -1.706504 -1.067887 -0.881274       0.820030  -1.746219   \n",
       "1     0.329567  0.888990 -1.067887 -0.881274      -1.015806   0.572666   \n",
       "2    -0.006609 -0.465181  0.713922 -0.881274       0.820030   0.572666   \n",
       "3     0.304665 -0.239486  1.070284 -0.881274      -1.015806   0.572666   \n",
       "4     1.188684 -0.013791  1.783008  1.050038      -1.015806   0.572666   \n",
       "\n",
       "   IsActiveMember  EstimatedSalary  Products_Per_Tenure  ActiveCC  \\\n",
       "0        1.009580         0.967874            -1.052504 -0.761515   \n",
       "1       -0.990511        -0.790939            -0.653982 -0.761515   \n",
       "2       -0.990511         0.528413            -0.056199 -0.761515   \n",
       "3       -0.990511         0.032150             1.737149 -0.761515   \n",
       "4       -0.990511         0.539331             2.534193 -0.761515   \n",
       "\n",
       "   Total_Products_Used  Mid_Balance  High_Balance  Geography_Encoded  \\\n",
       "0            -0.440063    -0.355474     -0.545592           0.787433   \n",
       "1            -0.440063    -0.355474     -0.545592           0.787433   \n",
       "2             0.996347    -0.355474     -0.545592           0.787433   \n",
       "3            -0.440063    -0.355474     -0.545592           0.787433   \n",
       "4            -0.440063     2.813147     -0.545592          -1.695286   \n",
       "\n",
       "   Gender_Encoded  Credit_category_Encoded  Age_category_Encoded  \n",
       "0       -1.135026                        4                     0  \n",
       "1       -1.135026                        3                     3  \n",
       "2       -1.135026                        4                     2  \n",
       "3        0.881037                        3                     3  \n",
       "4        0.881037                        1                     3  "
      ]
     },
     "execution_count": 151,
     "metadata": {},
     "output_type": "execute_result"
    }
   ],
   "source": [
    "test.head()"
   ]
  },
  {
   "cell_type": "code",
   "execution_count": 152,
   "metadata": {},
   "outputs": [
    {
     "name": "stdout",
     "output_type": "stream",
     "text": [
      "<class 'pandas.core.frame.DataFrame'>\n",
      "RangeIndex: 119317 entries, 0 to 119316\n",
      "Data columns (total 18 columns):\n",
      " #   Column                   Non-Null Count   Dtype  \n",
      "---  ------                   --------------   -----  \n",
      " 0   CreditScore              119317 non-null  float64\n",
      " 1   Age                      119317 non-null  float64\n",
      " 2   Tenure                   119317 non-null  float64\n",
      " 3   Balance                  119317 non-null  float64\n",
      " 4   NumOfProducts            119317 non-null  float64\n",
      " 5   HasCrCard                119317 non-null  float64\n",
      " 6   IsActiveMember           119317 non-null  float64\n",
      " 7   EstimatedSalary          119317 non-null  float64\n",
      " 8   Exited                   119317 non-null  int64  \n",
      " 9   Products_Per_Tenure      119317 non-null  float64\n",
      " 10  ActiveCC                 119317 non-null  float64\n",
      " 11  Total_Products_Used      119317 non-null  float64\n",
      " 12  Mid_Balance              119317 non-null  float64\n",
      " 13  High_Balance             119317 non-null  float64\n",
      " 14  Geography_Encoded        119317 non-null  float64\n",
      " 15  Gender_Encoded           119317 non-null  float64\n",
      " 16  Credit_category_Encoded  119317 non-null  int64  \n",
      " 17  Age_category_Encoded     119317 non-null  int64  \n",
      "dtypes: float64(15), int64(3)\n",
      "memory usage: 16.4 MB\n"
     ]
    }
   ],
   "source": [
    "# Just for confirmation\n",
    "train.info()"
   ]
  },
  {
   "cell_type": "code",
   "execution_count": 153,
   "metadata": {},
   "outputs": [],
   "source": [
    "target='Exited'"
   ]
  },
  {
   "cell_type": "code",
   "execution_count": 154,
   "metadata": {},
   "outputs": [],
   "source": [
    "#Train-Validation data split\n",
    "X = train.drop(target, axis=1)\n",
    "y = train[target]\n",
    "\n",
    "X_train, X_test, y_train, y_test = train_test_split(X,y,test_size = 0.2, shuffle = True, random_state=42)"
   ]
  },
  {
   "cell_type": "code",
   "execution_count": 155,
   "metadata": {},
   "outputs": [],
   "source": [
    "model=ctb.CatBoostClassifier(iterations=3000,learning_rate=0.06,verbose=300)"
   ]
  },
  {
   "cell_type": "code",
   "execution_count": 156,
   "metadata": {},
   "outputs": [
    {
     "name": "stdout",
     "output_type": "stream",
     "text": [
      "0:\tlearn: 0.6327484\ttotal: 26.3ms\tremaining: 1m 18s\n"
     ]
    },
    {
     "name": "stdout",
     "output_type": "stream",
     "text": [
      "300:\tlearn: 0.2938700\ttotal: 5.63s\tremaining: 50.5s\n",
      "600:\tlearn: 0.2848926\ttotal: 12s\tremaining: 48.1s\n",
      "900:\tlearn: 0.2775851\ttotal: 17.9s\tremaining: 41.7s\n",
      "1200:\tlearn: 0.2711025\ttotal: 23.6s\tremaining: 35.3s\n",
      "1500:\tlearn: 0.2650258\ttotal: 29.2s\tremaining: 29.2s\n",
      "1800:\tlearn: 0.2592959\ttotal: 34.8s\tremaining: 23.2s\n",
      "2100:\tlearn: 0.2539603\ttotal: 41.4s\tremaining: 17.7s\n",
      "2400:\tlearn: 0.2488022\ttotal: 47.3s\tremaining: 11.8s\n",
      "2700:\tlearn: 0.2440573\ttotal: 53.5s\tremaining: 5.92s\n",
      "2999:\tlearn: 0.2395125\ttotal: 59.5s\tremaining: 0us\n",
      "\n",
      " Model : <catboost.core.CatBoostClassifier object at 0x000001CB07DAAA10> \n",
      "\n",
      "ROC AUC Score: 0.8896304911450927\n"
     ]
    }
   ],
   "source": [
    "model.fit(X_train, y_train)\n",
    "\n",
    "# Predictions\n",
    "y_pred = model.predict_proba(X_test)[:,1]\n",
    "\n",
    "# Evaluation\n",
    "roc_auc = roc_auc_score(y_test, y_pred) # the evaluation metric\n",
    "\n",
    "print(\"ROC AUC Score:\", roc_auc)\n"
   ]
  },
  {
   "cell_type": "code",
   "execution_count": 157,
   "metadata": {},
   "outputs": [
    {
     "name": "stdout",
     "output_type": "stream",
     "text": [
      "0:\tlearn: 0.6331049\ttotal: 27.2ms\tremaining: 1m 21s\n",
      "300:\tlearn: 0.2952565\ttotal: 6.64s\tremaining: 59.5s\n",
      "600:\tlearn: 0.2879651\ttotal: 12.8s\tremaining: 51.1s\n",
      "900:\tlearn: 0.2818270\ttotal: 19.6s\tremaining: 45.6s\n",
      "1200:\tlearn: 0.2761400\ttotal: 27s\tremaining: 40.4s\n",
      "1500:\tlearn: 0.2709791\ttotal: 33.7s\tremaining: 33.7s\n",
      "1800:\tlearn: 0.2662311\ttotal: 40.7s\tremaining: 27.1s\n",
      "2100:\tlearn: 0.2615937\ttotal: 47.3s\tremaining: 20.2s\n",
      "2400:\tlearn: 0.2572179\ttotal: 54.9s\tremaining: 13.7s\n",
      "2700:\tlearn: 0.2531110\ttotal: 1m 1s\tremaining: 6.85s\n",
      "2999:\tlearn: 0.2492237\ttotal: 1m 8s\tremaining: 0us\n",
      "\n",
      " Model : <catboost.core.CatBoostClassifier object at 0x000001CB07DAAA10> \n",
      "\n",
      "ROC AUC Score: 0.9319262825113945\n"
     ]
    }
   ],
   "source": [
    "model.fit(X, y)\n",
    "\n",
    "# Predictions\n",
    "y_pred = model.predict_proba(X)[:,1]\n",
    "\n",
    "# Evaluation\n",
    "roc_auc = roc_auc_score(y, y_pred) # the evaluation metric\n",
    "\n",
    "print(\"ROC AUC Score:\", roc_auc)\n",
    "\n"
   ]
  },
  {
   "cell_type": "code",
   "execution_count": 158,
   "metadata": {},
   "outputs": [
    {
     "data": {
      "image/png": "[encoded data removed]",
      "text/plain": [
       "<Figure size 1000x600 with 1 Axes>"
      ]
     },
     "metadata": {},
     "output_type": "display_data"
    }
   ],
   "source": [
    "# Get feature importance scores\n",
    "feature_importance = model.get_feature_importance()\n",
    "\n",
    "# Get feature names\n",
    "feature_names = X_train.columns\n",
    "\n",
    "# Create a dictionary mapping feature names to their importance scores\n",
    "feature_importance_dict = dict(zip(feature_names, feature_importance))\n",
    "\n",
    "# Sort feature importance scores in descending order\n",
    "sorted_feature_importance = sorted(feature_importance_dict.items(), key=lambda x: x[1], reverse=True)\n",
    "\n",
    "# Extract sorted feature names and importance scores\n",
    "sorted_feature_names = [item[0] for item in sorted_feature_importance]\n",
    "sorted_importance_scores = [item[1] for item in sorted_feature_importance]\n",
    "\n",
    "\n",
    "# Plot feature importance\n",
    "plt.figure(figsize=(10, 6))\n",
    "plt.barh(sorted_feature_names, sorted_importance_scores)\n",
    "plt.xlabel('Feature Importance')\n",
    "plt.ylabel('Feature Name')\n",
    "plt.title('CatBoost Feature Importance')\n",
    "plt.show()\n"
   ]
  },
  {
   "cell_type": "markdown",
   "metadata": {},
   "source": [
    "# Model saving"
   ]
  },
  {
   "cell_type": "code",
   "execution_count": 159,
   "metadata": {},
   "outputs": [],
   "source": [
    "id=pd.read_csv('data/test_id.csv')\n",
    "test_predictions=model.predict_proba(test)[:,1]"
   ]
  },
  {
   "cell_type": "code",
   "execution_count": 160,
   "metadata": {},
   "outputs": [
    {
     "data": {
      "text/plain": [
       "array([0.08227823, 0.75310547, 0.02328918, ..., 0.0250507 , 0.13428431,\n",
       "       0.10189538])"
      ]
     },
     "execution_count": 160,
     "metadata": {},
     "output_type": "execute_result"
    }
   ],
   "source": [
    "test_predictions = np.where(test_predictions < 0.02, 0, test_predictions)\n",
    "test_predictions = np.where(test_predictions >= 0.95, 1, test_predictions)\n",
    "test_predictions"
   ]
  },
  {
   "cell_type": "code",
   "execution_count": 161,
   "metadata": {},
   "outputs": [
    {
     "data": {
      "text/html": [
       "<div>\n",
       "<style scoped>\n",
       "    .dataframe tbody tr th:only-of-type {\n",
       "        vertical-align: middle;\n",
       "    }\n",
       "\n",
       "    .dataframe tbody tr th {\n",
       "        vertical-align: top;\n",
       "    }\n",
       "\n",
       "    .dataframe thead th {\n",
       "        text-align: right;\n",
       "    }\n",
       "</style>\n",
       "<table border=\"1\" class=\"dataframe\">\n",
       "  <thead>\n",
       "    <tr style=\"text-align: right;\">\n",
       "      <th></th>\n",
       "      <th>id</th>\n",
       "      <th>Exited</th>\n",
       "    </tr>\n",
       "  </thead>\n",
       "  <tbody>\n",
       "    <tr>\n",
       "      <th>0</th>\n",
       "      <td>165034</td>\n",
       "      <td>0.082278</td>\n",
       "    </tr>\n",
       "    <tr>\n",
       "      <th>1</th>\n",
       "      <td>165035</td>\n",
       "      <td>0.753105</td>\n",
       "    </tr>\n",
       "    <tr>\n",
       "      <th>2</th>\n",
       "      <td>165036</td>\n",
       "      <td>0.023289</td>\n",
       "    </tr>\n",
       "    <tr>\n",
       "      <th>3</th>\n",
       "      <td>165037</td>\n",
       "      <td>0.351065</td>\n",
       "    </tr>\n",
       "    <tr>\n",
       "      <th>4</th>\n",
       "      <td>165038</td>\n",
       "      <td>0.326390</td>\n",
       "    </tr>\n",
       "  </tbody>\n",
       "</table>\n",
       "</div>"
      ],
      "text/plain": [
       "       id    Exited\n",
       "0  165034  0.082278\n",
       "1  165035  0.753105\n",
       "2  165036  0.023289\n",
       "3  165037  0.351065\n",
       "4  165038  0.326390"
      ]
     },
     "execution_count": 161,
     "metadata": {},
     "output_type": "execute_result"
    }
   ],
   "source": [
    "# Add index to results\n",
    "predictions_df = pd.DataFrame({'id': id['id'], 'Exited': test_predictions})\n",
    "predictions_df.head()"
   ]
  },
  {
   "cell_type": "code",
   "execution_count": 162,
   "metadata": {},
   "outputs": [
    {
     "name": "stdout",
     "output_type": "stream",
     "text": [
      "done !\n"
     ]
    }
   ],
   "source": [
    "predictions_df.to_csv(\"data/submission/Submission3.csv\", index = False)\n",
    "print(\"done !\")"
   ]
  },
  {
   "cell_type": "code",
   "execution_count": null,
   "metadata": {},
   "outputs": [],
   "source": []
  }
 ],
 "metadata": {
  "kernelspec": {
   "display_name": "myenv",
   "language": "python",
   "name": "python3"
  },
  "language_info": {
   "codemirror_mode": {
    "name": "ipython",
    "version": 3
   },
   "file_extension": ".py",
   "mimetype": "text/x-python",
   "name": "python",
   "nbconvert_exporter": "python",
   "pygments_lexer": "ipython3",
   "version": "3.11.7"
  }
 },
 "nbformat": 4,
 "nbformat_minor": 2
}
